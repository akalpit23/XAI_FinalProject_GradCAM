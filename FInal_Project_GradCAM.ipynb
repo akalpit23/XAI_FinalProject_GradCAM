{
 "cells": [
  {
   "cell_type": "code",
   "execution_count": null,
   "metadata": {},
   "outputs": [],
   "source": [
    "# Please use this to connect your GitHub repository to your Google Colab notebook\n",
    "# Connects to any needed files from GitHub and Google Drive\n",
    "import os\n",
    "\n",
    "# Remove Colab default sample_data\n",
    "!rm -r ./sample_data\n",
    "\n",
    "# Clone GitHub files to colab workspace\n",
    "repo_name = \"XAI_FinalProject_GradCAM\" # Change to your repo name\n",
    "git_path = 'https://github.com/akalpit23/XAI_FinalProject_GradCAM.git' #Change to your path\n",
    "!git clone \"{git_path}\"\n",
    "\n",
    "# Install dependencies from requirements.txt file\n",
    "#!pip install -r \"{os.path.join(repo_name,'requirements.txt')}\" #Add if using requirements.txt\n",
    "\n",
    "# Change working directory to location of notebook\n",
    "notebook_dir = 'Final_Project_GradCAM.ipynb'\n",
    "path_to_notebook = os.path.join(repo_name,notebook_dir)\n",
    "%cd \"{path_to_notebook}\"\n",
    "%ls"
   ]
  }
 ],
 "metadata": {
  "language_info": {
   "name": "python"
  }
 },
 "nbformat": 4,
 "nbformat_minor": 2
}
