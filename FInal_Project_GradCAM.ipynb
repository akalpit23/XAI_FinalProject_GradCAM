{
 "cells": [
  {
   "cell_type": "code",
   "execution_count": 1,
   "metadata": {},
   "outputs": [
    {
     "name": "stdout",
     "output_type": "stream",
     "text": [
      "rm: ./sample_data: No such file or directory\n",
      "Cloning into 'XAI_FinalProject_GradCAM'...\n",
      "remote: Enumerating objects: 9, done.\u001b[K\n",
      "remote: Counting objects: 100% (9/9), done.\u001b[K\n",
      "remote: Compressing objects: 100% (7/7), done.\u001b[K\n",
      "remote: Total 9 (delta 0), reused 3 (delta 0), pack-reused 0 (from 0)\u001b[K\n",
      "Receiving objects: 100% (9/9), done.\n",
      "[Errno 20] Not a directory: 'XAI_FinalProject_GradCAM/Final_Project_GradCAM.ipynb'\n",
      "/Users/akalpitdawkhar/Desktop/School/SEM 3/XAI/XAI_FinalProject_GradCAM\n",
      "Final_Project_GradCAM.ipynb  \u001b[34mXAI_FinalProject_GradCAM\u001b[m\u001b[m/\n",
      "README.md                    requirements.txt\n"
     ]
    }
   ],
   "source": [
    "# Please use this to connect your GitHub repository to your Google Colab notebook\n",
    "# Connects to any needed files from GitHub and Google Drive\n",
    "import os\n",
    "\n",
    "# Remove Colab default sample_data\n",
    "!rm -r ./sample_data\n",
    "\n",
    "# Clone GitHub files to colab workspace\n",
    "repo_name = \"XAI_FinalProject_GradCAM\" # Change to your repo name\n",
    "git_path = 'https://github.com/akalpit23/XAI_FinalProject_GradCAM.git' #Change to your path\n",
    "!git clone \"{git_path}\"\n",
    "\n",
    "# Install dependencies from requirements.txt file\n",
    "#!pip install -r \"{os.path.join(repo_name,'requirements.txt')}\" #Add if using requirements.txt\n",
    "\n",
    "# Change working directory to location of notebook\n",
    "notebook_dir = 'Final_Project_GradCAM.ipynb'\n",
    "path_to_notebook = os.path.join(repo_name,notebook_dir)\n",
    "%cd \"{path_to_notebook}\"\n",
    "%ls"
   ]
  },
  {
   "cell_type": "code",
   "execution_count": null,
   "metadata": {},
   "outputs": [],
   "source": []
  }
 ],
 "metadata": {
  "kernelspec": {
   "display_name": "base",
   "language": "python",
   "name": "python3"
  },
  "language_info": {
   "codemirror_mode": {
    "name": "ipython",
    "version": 3
   },
   "file_extension": ".py",
   "mimetype": "text/x-python",
   "name": "python",
   "nbconvert_exporter": "python",
   "pygments_lexer": "ipython3",
   "version": "3.11.5"
  }
 },
 "nbformat": 4,
 "nbformat_minor": 2
}
